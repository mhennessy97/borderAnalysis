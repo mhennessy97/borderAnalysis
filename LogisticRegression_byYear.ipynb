{
 "cells": [
  {
   "cell_type": "code",
   "execution_count": 7,
   "id": "0074852a-c489-476b-92c0-5520b3a70b4a",
   "metadata": {},
   "outputs": [
    {
     "name": "stdout",
     "output_type": "stream",
     "text": [
      "Accuracy: 0.3333\n",
      "\n",
      "Classification Report:\n",
      "              precision    recall  f1-score   support\n",
      "\n",
      "           0       0.33      1.00      0.50         2\n",
      "           1       0.00      0.00      0.00         4\n",
      "\n",
      "    accuracy                           0.33         6\n",
      "   macro avg       0.17      0.50      0.25         6\n",
      "weighted avg       0.11      0.33      0.17         6\n",
      "\n"
     ]
    },
    {
     "name": "stderr",
     "output_type": "stream",
     "text": [
      "C:\\Users\\mhennessy\\AppData\\Local\\Temp\\ipykernel_9108\\2382217858.py:38: FutureWarning: ChainedAssignmentError: behaviour will change in pandas 3.0!\n",
      "You are setting values through chained assignment. Currently this works in certain cases, but when using Copy-on-Write (which will become the default behaviour in pandas 3.0) this will never work to update the original DataFrame or Series, because the intermediate object on which we are setting values will behave as a copy.\n",
      "A typical example is when you are setting values in a column of a DataFrame, like:\n",
      "\n",
      "df[\"col\"][row_indexer] = value\n",
      "\n",
      "Use `df.loc[row_indexer, \"col\"] = values` instead, to perform the assignment in a single step and ensure this keeps updating the original `df`.\n",
      "\n",
      "See the caveats in the documentation: https://pandas.pydata.org/pandas-docs/stable/user_guide/indexing.html#returning-a-view-versus-a-copy\n",
      "\n",
      "  annual_data['Annual Change'].iloc[0] = 0\n",
      "C:\\Users\\mhennessy\\AppData\\Local\\Temp\\ipykernel_9108\\2382217858.py:38: SettingWithCopyWarning: \n",
      "A value is trying to be set on a copy of a slice from a DataFrame\n",
      "\n",
      "See the caveats in the documentation: https://pandas.pydata.org/pandas-docs/stable/user_guide/indexing.html#returning-a-view-versus-a-copy\n",
      "  annual_data['Annual Change'].iloc[0] = 0\n",
      "C:\\Users\\mhennessy\\AppData\\Local\\anaconda3\\Lib\\site-packages\\sklearn\\metrics\\_classification.py:1344: UndefinedMetricWarning: Precision and F-score are ill-defined and being set to 0.0 in labels with no predicted samples. Use `zero_division` parameter to control this behavior.\n",
      "  _warn_prf(average, modifier, msg_start, len(result))\n",
      "C:\\Users\\mhennessy\\AppData\\Local\\anaconda3\\Lib\\site-packages\\sklearn\\metrics\\_classification.py:1344: UndefinedMetricWarning: Precision and F-score are ill-defined and being set to 0.0 in labels with no predicted samples. Use `zero_division` parameter to control this behavior.\n",
      "  _warn_prf(average, modifier, msg_start, len(result))\n",
      "C:\\Users\\mhennessy\\AppData\\Local\\anaconda3\\Lib\\site-packages\\sklearn\\metrics\\_classification.py:1344: UndefinedMetricWarning: Precision and F-score are ill-defined and being set to 0.0 in labels with no predicted samples. Use `zero_division` parameter to control this behavior.\n",
      "  _warn_prf(average, modifier, msg_start, len(result))\n"
     ]
    }
   ],
   "source": [
    "import pandas as pd\n",
    "import numpy as np\n",
    "import os\n",
    "import csv\n",
    "import matplotlib.pyplot as plt\n",
    "import hvplot.pandas\n",
    "from pathlib import Path\n",
    "from sklearn.linear_model import LogisticRegression\n",
    "from sklearn.metrics import accuracy_score, classification_report\n",
    "from sklearn.model_selection import train_test_split\n",
    "\n",
    "csv_data = os.path.join(\".\",\"Border_Crossing_Entry_Data.csv\")\n",
    "\n",
    "border_df = pd.read_csv(csv_data)\n",
    "\n",
    "border_df['Date'] = pd.to_datetime(border_df['Date'].str.strip(), errors='coerce')\n",
    "\n",
    "#Drop any NAs\n",
    "border_df = border_df.dropna(subset=['Date'])\n",
    "\n",
    "#extract the 'year'\n",
    "border_df['Year'] = border_df['Date'].dt.year\n",
    "\n",
    "#remove any zeros\n",
    "border_df = border_df.dropna(subset = ['Value'])\n",
    "border_df = border_df[border_df['Value'] > 0]\n",
    "\n",
    "#group by year and port\n",
    "annual_data = border_df.groupby(['Year'], as_index=False)['Value'].sum()\n",
    "\n",
    "#Sort the data\n",
    "annual_data = annual_data.sort_values(by=['Year'])\n",
    "\n",
    "#create a column for change from year to year\n",
    "annual_data['Annual Change'] = annual_data['Value'].pct_change()\n",
    "\n",
    "# Set the first year's Annual Change to 0\n",
    "annual_data['Annual Change'].iloc[0] = 0\n",
    "\n",
    "# Convert 'Annual Change' to percentage \n",
    "annual_data['Annual Change'] = annual_data['Annual Change'] * 100\n",
    "\n",
    "#create column which can be used to predict increase or decrease\n",
    "annual_data['Increase'] = (annual_data['Annual Change'] > 0).astype(int)\n",
    "\n",
    "# format the 'Annual Change' to display as percentage \n",
    "annual_data['Annual Change'] = annual_data['Annual Change'].map('{:.2f}%'.format)\n",
    "\n",
    "# Convert the 'Increase' column to integer (it's already 0 or 1, but just to be sure)\n",
    "annual_data['Increase'] = annual_data['Increase'].astype(int)\n",
    "\n",
    "# Select features and target\n",
    "X = annual_data['Year'].values.reshape(-1, 1)\n",
    "y = annual_data['Increase']\n",
    "\n",
    "# Split data into training and testing sets\n",
    "X_train, X_test, y_train, y_test = train_test_split(X, y, test_size=0.2, random_state=42)\n",
    "\n",
    "#create, fit, and predict model\n",
    "model = LogisticRegression()\n",
    "model.fit(X_train, y_train)\n",
    "y_pred = model.predict(X_test)\n",
    "\n",
    "# Evaluate the model's performance\n",
    "accuracy = accuracy_score(y_test, y_pred)\n",
    "print(f'Accuracy: {accuracy:.4f}')\n",
    "print(\"\\nClassification Report:\")\n",
    "print(classification_report(y_test, y_pred))"
   ]
  },
  {
   "cell_type": "code",
   "execution_count": 8,
   "id": "6cfe1bee-b5b2-464b-b26c-0e9b24317cc7",
   "metadata": {},
   "outputs": [
    {
     "name": "stdout",
     "output_type": "stream",
     "text": [
      "Accuracy: 0.5926\n",
      "\n",
      "Classification Report:\n",
      "              precision    recall  f1-score   support\n",
      "\n",
      "           0       0.58      0.54      0.56        13\n",
      "           1       0.60      0.64      0.62        14\n",
      "\n",
      "    accuracy                           0.59        27\n",
      "   macro avg       0.59      0.59      0.59        27\n",
      "weighted avg       0.59      0.59      0.59        27\n",
      "\n"
     ]
    }
   ],
   "source": [
    "# Split data into training and testing sets\n",
    "X_train, X_test, y_train, y_test = train_test_split(X, y, test_size=0.9, random_state=42)\n",
    "\n",
    "#create, fit, and predict model\n",
    "model = LogisticRegression()\n",
    "model.fit(X_train, y_train)\n",
    "y_pred = model.predict(X_test)\n",
    "\n",
    "# Evaluate the model's performance\n",
    "accuracy = accuracy_score(y_test, y_pred)\n",
    "print(f'Accuracy: {accuracy:.4f}')\n",
    "print(\"\\nClassification Report:\")\n",
    "print(classification_report(y_test, y_pred))"
   ]
  },
  {
   "cell_type": "code",
   "execution_count": null,
   "id": "1d4b7017-bf4e-42ed-a29a-cc1a7fbcf3f0",
   "metadata": {},
   "outputs": [],
   "source": []
  }
 ],
 "metadata": {
  "kernelspec": {
   "display_name": "Python 3 (ipykernel)",
   "language": "python",
   "name": "python3"
  },
  "language_info": {
   "codemirror_mode": {
    "name": "ipython",
    "version": 3
   },
   "file_extension": ".py",
   "mimetype": "text/x-python",
   "name": "python",
   "nbconvert_exporter": "python",
   "pygments_lexer": "ipython3",
   "version": "3.11.7"
  }
 },
 "nbformat": 4,
 "nbformat_minor": 5
}

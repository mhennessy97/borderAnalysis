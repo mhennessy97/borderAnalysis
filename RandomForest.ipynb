{
 "cells": [
  {
   "cell_type": "code",
   "execution_count": 8,
   "id": "ede16f09-f1fd-42fd-8e98-89094aaafa70",
   "metadata": {},
   "outputs": [
    {
     "name": "stdout",
     "output_type": "stream",
     "text": [
      "Accuracy: 0.7776420281001832\n",
      "Classification Report:\n",
      "              precision    recall  f1-score   support\n",
      "\n",
      "           0       0.82      0.83      0.83     50907\n",
      "           1       0.69      0.67      0.68     27669\n",
      "\n",
      "    accuracy                           0.78     78576\n",
      "   macro avg       0.76      0.75      0.76     78576\n",
      "weighted avg       0.78      0.78      0.78     78576\n",
      "\n"
     ]
    }
   ],
   "source": [
    "import pandas as pd\n",
    "from sklearn.model_selection import train_test_split\n",
    "from sklearn.preprocessing import LabelEncoder, OneHotEncoder\n",
    "from sklearn.ensemble import RandomForestClassifier\n",
    "from sklearn.metrics import classification_report, accuracy_score\n",
    "from sklearn.model_selection import cross_val_score\n",
    "\n",
    "# load the data\n",
    "border_df = pd.read_csv('Border_Crossing_Entry_Data.csv')\n",
    "\n",
    "# convert date to datetime and extract year \n",
    "border_df['Date'] = pd.to_datetime(border_df['Date'].str.strip(), errors='coerce')\n",
    "border_df['Year'] = border_df['Date'].dt.year\n",
    "\n",
    "# drop missing values\n",
    "border_df = df.dropna()\n",
    "\n",
    "# label encode columns\n",
    "label_columns = ['Port Name', 'State', 'Measure', 'Border']\n",
    "label_encoder = LabelEncoder()\n",
    "for column in label_columns:\n",
    "    border_df[column] = label_encoder.fit_transform(border_df[column])\n",
    "\n",
    "# predict future increase/decrease\n",
    "border_df['Prev_Year_Value'] = border_df.groupby(['Port Code', 'Measure'])['Value'].shift(1)\n",
    "\n",
    "# drop rows with na values\n",
    "border_df = border_df.dropna(subset=['Prev_Year_Value'])\n",
    "\n",
    "# define the target variable # 1 if value increased, 0 if decreased\n",
    "border_df['Value_Change'] = border_df['Value'] > border_df['Prev_Year_Value'] \n",
    "border_df['Value_Change'] = border_df['Value_Change'].astype(int)\n",
    "\n",
    "# define features (X) and target (y)\n",
    "features = ['Port Code', 'State', 'Border', 'Measure', 'Year', 'Prev_Year_Value', 'Latitude', 'Longitude']\n",
    "X = border_df[features]\n",
    "y = border_df['Value_Change']\n",
    "\n",
    "# split the data into training and test sets\n",
    "X_train, X_test, y_train, y_test = train_test_split(X, y, test_size=0.2, random_state=42)\n",
    "\n",
    "# build the Random Forest model\n",
    "model = RandomForestClassifier(n_estimators=100, random_state=42)\n",
    "model.fit(X_train, y_train)\n",
    "\n",
    "# make predictions\n",
    "y_pred = model.predict(X_test)\n",
    "\n",
    "# evaluate the model\n",
    "print(f'Accuracy: {accuracy_score(y_test, y_pred)}')\n",
    "print(f'Classification Report:\\n{classification_report(y_test, y_pred)}')"
   ]
  },
  {
   "cell_type": "code",
   "execution_count": 9,
   "id": "82476a57-5aeb-4b50-aefd-316c1547aea8",
   "metadata": {},
   "outputs": [
    {
     "name": "stdout",
     "output_type": "stream",
     "text": [
      "Accuracy: 0.777523247132288\n",
      "Classification Report:\n",
      "              precision    recall  f1-score   support\n",
      "\n",
      "           0       0.82      0.83      0.83     76253\n",
      "           1       0.69      0.68      0.68     41611\n",
      "\n",
      "    accuracy                           0.78    117864\n",
      "   macro avg       0.76      0.75      0.76    117864\n",
      "weighted avg       0.78      0.78      0.78    117864\n",
      "\n"
     ]
    }
   ],
   "source": [
    "# split the data into training and test sets\n",
    "X_train, X_test, y_train, y_test = train_test_split(X, y, test_size=0.3, random_state=42)\n",
    "\n",
    "# build the Random Forest model\n",
    "model = RandomForestClassifier(n_estimators=200, random_state=42)\n",
    "model.fit(X_train, y_train)\n",
    "\n",
    "# make predictions\n",
    "y_pred = model.predict(X_test)\n",
    "\n",
    "# evaluate the model\n",
    "print(f'Accuracy: {accuracy_score(y_test, y_pred)}')\n",
    "print(f'Classification Report:\\n{classification_report(y_test, y_pred)}')"
   ]
  },
  {
   "cell_type": "code",
   "execution_count": 11,
   "id": "62b49111-49b9-4cb7-8b7e-ab1d1a150f22",
   "metadata": {},
   "outputs": [
    {
     "name": "stdout",
     "output_type": "stream",
     "text": [
      "Accuracy: 0.7717674608022806\n",
      "Classification Report:\n",
      "              precision    recall  f1-score   support\n",
      "\n",
      "           0       0.82      0.83      0.82    127095\n",
      "           1       0.68      0.67      0.67     69345\n",
      "\n",
      "    accuracy                           0.77    196440\n",
      "   macro avg       0.75      0.75      0.75    196440\n",
      "weighted avg       0.77      0.77      0.77    196440\n",
      "\n"
     ]
    }
   ],
   "source": [
    "# split the data into training and test sets\n",
    "X_train, X_test, y_train, y_test = train_test_split(X, y, test_size=0.5, random_state=42)\n",
    "\n",
    "# build the Random Forest model\n",
    "model = RandomForestClassifier(n_estimators=300, random_state=42)\n",
    "model.fit(X_train, y_train)\n",
    "\n",
    "# make predictions\n",
    "y_pred = model.predict(X_test)\n",
    "\n",
    "# evaluate the model\n",
    "print(f'Accuracy: {accuracy_score(y_test, y_pred)}')\n",
    "print(f'Classification Report:\\n{classification_report(y_test, y_pred)}')"
   ]
  },
  {
   "cell_type": "code",
   "execution_count": null,
   "id": "4931c4e0-ef56-4c8b-8c2e-47e965a49c41",
   "metadata": {},
   "outputs": [],
   "source": []
  }
 ],
 "metadata": {
  "kernelspec": {
   "display_name": "Python 3 (ipykernel)",
   "language": "python",
   "name": "python3"
  },
  "language_info": {
   "codemirror_mode": {
    "name": "ipython",
    "version": 3
   },
   "file_extension": ".py",
   "mimetype": "text/x-python",
   "name": "python",
   "nbconvert_exporter": "python",
   "pygments_lexer": "ipython3",
   "version": "3.11.7"
  }
 },
 "nbformat": 4,
 "nbformat_minor": 5
}

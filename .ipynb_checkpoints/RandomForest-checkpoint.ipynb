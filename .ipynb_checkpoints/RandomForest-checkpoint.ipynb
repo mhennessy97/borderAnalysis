{
 "cells": [
  {
   "cell_type": "code",
   "execution_count": 2,
   "id": "ede16f09-f1fd-42fd-8e98-89094aaafa70",
   "metadata": {},
   "outputs": [
    {
     "name": "stdout",
     "output_type": "stream",
     "text": [
      "Accuracy: 0.7805382235073302\n",
      "Classification Report:\n",
      "              precision    recall  f1-score   support\n",
      "\n",
      "           0       0.83      0.83      0.83     51042\n",
      "           1       0.69      0.68      0.69     27810\n",
      "\n",
      "    accuracy                           0.78     78852\n",
      "   macro avg       0.76      0.76      0.76     78852\n",
      "weighted avg       0.78      0.78      0.78     78852\n",
      "\n"
     ]
    }
   ],
   "source": [
    "import pandas as pd\n",
    "from sklearn.model_selection import train_test_split\n",
    "from sklearn.preprocessing import LabelEncoder, OneHotEncoder\n",
    "from sklearn.ensemble import RandomForestClassifier\n",
    "from sklearn.metrics import classification_report, accuracy_score, confusion_matrix\n",
    "\n",
    "# load the data\n",
    "border_df = pd.read_csv('Border_Crossing_Entry_Data.csv')\n",
    "\n",
    "# convert date to datetime and extract year \n",
    "border_df['Date'] = pd.to_datetime(border_df['Date'].str.strip(), errors='coerce')\n",
    "border_df['Year'] = border_df['Date'].dt.year\n",
    "\n",
    "# drop missing values\n",
    "border_df = border_df.dropna()\n",
    "\n",
    "# label encode columns\n",
    "label_columns = ['Port Name', 'State', 'Measure', 'Border']\n",
    "label_encoder = LabelEncoder()\n",
    "for column in label_columns:\n",
    "    border_df[column] = label_encoder.fit_transform(border_df[column])\n",
    "\n",
    "# predict future increase/decrease\n",
    "border_df['Prev_Year_Value'] = border_df.groupby(['Port Code', 'Measure'])['Value'].shift(1)\n",
    "\n",
    "# drop rows with na values\n",
    "border_df = border_df.dropna(subset=['Prev_Year_Value'])\n",
    "\n",
    "# define the target variable # 1 if value increased, 0 if decreased\n",
    "border_df['Value_Change'] = border_df['Value'] > border_df['Prev_Year_Value'] \n",
    "border_df['Value_Change'] = border_df['Value_Change'].astype(int)\n",
    "\n",
    "# define features (X) and target (y)\n",
    "features = ['Port Code', 'State', 'Border', 'Measure', 'Year', 'Prev_Year_Value', 'Latitude', 'Longitude']\n",
    "X = border_df[features]\n",
    "y = border_df['Value_Change']\n",
    "\n",
    "# split the data into training and test sets\n",
    "X_train, X_test, y_train, y_test = train_test_split(X, y, test_size=0.2, random_state=42)\n",
    "\n",
    "# build the Random Forest model\n",
    "model = RandomForestClassifier(n_estimators=100, random_state=42)\n",
    "model.fit(X_train, y_train)\n",
    "\n",
    "# make predictions\n",
    "y_pred = model.predict(X_test)\n",
    "\n",
    "# evaluate the model\n",
    "print(f'Accuracy: {accuracy_score(y_test, y_pred)}')\n",
    "print(f'Classification Report:\\n{classification_report(y_test, y_pred)}')"
   ]
  },
  {
   "cell_type": "code",
   "execution_count": 3,
   "id": "b1f177c1-cca9-45e3-a3bb-2c2a087aef31",
   "metadata": {},
   "outputs": [
    {
     "name": "stdout",
     "output_type": "stream",
     "text": [
      "Confusion Matrix\n"
     ]
    },
    {
     "data": {
      "text/html": [
       "<div>\n",
       "<style scoped>\n",
       "    .dataframe tbody tr th:only-of-type {\n",
       "        vertical-align: middle;\n",
       "    }\n",
       "\n",
       "    .dataframe tbody tr th {\n",
       "        vertical-align: top;\n",
       "    }\n",
       "\n",
       "    .dataframe thead th {\n",
       "        text-align: right;\n",
       "    }\n",
       "</style>\n",
       "<table border=\"1\" class=\"dataframe\">\n",
       "  <thead>\n",
       "    <tr style=\"text-align: right;\">\n",
       "      <th></th>\n",
       "      <th>0</th>\n",
       "      <th>1</th>\n",
       "    </tr>\n",
       "  </thead>\n",
       "  <tbody>\n",
       "    <tr>\n",
       "      <th>Decrease (0)</th>\n",
       "      <td>42609</td>\n",
       "      <td>8433</td>\n",
       "    </tr>\n",
       "    <tr>\n",
       "      <th>Increase (1)</th>\n",
       "      <td>8872</td>\n",
       "      <td>18938</td>\n",
       "    </tr>\n",
       "  </tbody>\n",
       "</table>\n",
       "</div>"
      ],
      "text/plain": [
       "                  0      1\n",
       "Decrease (0)  42609   8433\n",
       "Increase (1)   8872  18938"
      ]
     },
     "execution_count": 3,
     "metadata": {},
     "output_type": "execute_result"
    }
   ],
   "source": [
    "#calculate confusion matrix\n",
    "cm = confusion_matrix(y_test, y_pred)\n",
    "cm_df = pd.DataFrame(\n",
    "    cm, index = [\"Decrease (0)\", \"Increase (1)\"]\n",
    ")\n",
    "print(\"Confusion Matrix\")\n",
    "cm_df"
   ]
  },
  {
   "cell_type": "code",
   "execution_count": null,
   "id": "1c0a8cde-3621-4fa3-8d84-21855753bbd8",
   "metadata": {},
   "outputs": [],
   "source": [
    "#The model correctly predicted future decreases in 42,609 cases. It's predictions in decreases was incorrect in 8,433 cases.\n",
    "#The model correctly predicted future increases in 18,938 cases. It's predictions in increases was incorrect in 8,872 cases. \n",
    "\n",
    "#Overall, the model predicted that there will be more decreases than increases in the future. "
   ]
  },
  {
   "cell_type": "code",
   "execution_count": 4,
   "id": "a2e8d0ed-cedf-4daf-814e-d295e05ed6d1",
   "metadata": {},
   "outputs": [
    {
     "data": {
      "text/plain": [
       "<Axes: title={'center': 'Features Importances'}, ylabel='1'>"
      ]
     },
     "execution_count": 4,
     "metadata": {},
     "output_type": "execute_result"
    },
    {
     "data": {
      "image/png": "[encoded data removed]",
      "text/plain": [
       "<Figure size 640x480 with 1 Axes>"
      ]
     },
     "metadata": {},
     "output_type": "display_data"
    }
   ],
   "source": [
    "#feature importance\n",
    "importances = model.feature_importances_\n",
    "\n",
    "sorted(zip(model.feature_importances_, X.columns), reverse=True)\n",
    "\n",
    "importances_df = pd.DataFrame(sorted(zip(model.feature_importances_, X.columns), reverse=True))\n",
    "importances_df.set_index(importances_df[1], inplace=True)\n",
    "importances_df.drop(columns=1, inplace=True)\n",
    "importances_df.rename(columns={0: 'Feature Importances'}, inplace=True)\n",
    "importances_sorted = importances_df.sort_values(by='Feature Importances')\n",
    "importances_sorted.plot(kind='barh', color='lightgreen', title= 'Features Importances', legend=False)"
   ]
  },
  {
   "cell_type": "code",
   "execution_count": null,
   "id": "f83e7957-d9f8-4210-9f93-bdc53fed00be",
   "metadata": {},
   "outputs": [],
   "source": []
  },
  {
   "cell_type": "code",
   "execution_count": null,
   "id": "4931c4e0-ef56-4c8b-8c2e-47e965a49c41",
   "metadata": {},
   "outputs": [],
   "source": []
  }
 ],
 "metadata": {
  "kernelspec": {
   "display_name": "Python 3 (ipykernel)",
   "language": "python",
   "name": "python3"
  },
  "language_info": {
   "codemirror_mode": {
    "name": "ipython",
    "version": 3
   },
   "file_extension": ".py",
   "mimetype": "text/x-python",
   "name": "python",
   "nbconvert_exporter": "python",
   "pygments_lexer": "ipython3",
   "version": "3.11.7"
  }
 },
 "nbformat": 4,
 "nbformat_minor": 5
}
